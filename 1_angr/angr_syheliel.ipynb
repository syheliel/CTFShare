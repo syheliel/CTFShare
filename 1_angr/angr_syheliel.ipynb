{
 "cells": [
  {
   "cell_type": "markdown",
   "metadata": {},
   "source": [
    "# CTF分享--ANGR模块的利用\n",
    "## angr是什么？\n",
    "angr是一个支持多架构的二进制代码分析工具，能够在二进制文件上进行动态符号执行(如Mayhem、KLEE等)和各种静态分析。\n",
    "## angr分析的基本流程\n",
    "1. 将二进制程序载入angr分析系统\n",
    "2. 将二进制程序转换成中间语言（intermediate representation, IR）\n",
    "3. 将IR语言转换成语义较强的表达形式，比如，这个程序做了什么，而不是它是什么。\n",
    "4. 执行进一步的分析，比如，完整的或者部分的静态分析（依赖关系分析，程序分块）、程序空间的符号执行探索（挖掘溢出漏洞）、一些对于上面方式的结合。"
   ]
  },
  {
   "cell_type": "markdown",
   "metadata": {},
   "source": [
    "# angr主要模块介绍\n",
    "## Project\n",
    "angr.Project可以用来加载一个二进制文件，同时，proj自身也有一些属性"
   ]
  },
  {
   "cell_type": "code",
   "execution_count": 125,
   "metadata": {},
   "outputs": [],
   "source": [
    "import angr\n",
    "import networkx as nx\n",
    "from angrutils import *"
   ]
  },
  {
   "cell_type": "code",
   "execution_count": 126,
   "metadata": {},
   "outputs": [
    {
     "name": "stdout",
     "output_type": "stream",
     "text": [
      "<Arch X86 (LE)>\n",
      "0x8048450\n",
      "../problems/00_angr_find\n"
     ]
    }
   ],
   "source": [
    "# proj = angr.Project(\"../problems/00_angr_find\",auto_load_libs=False)\n",
    "proj = angr.Project(\"../problems/00_angr_find\")\n",
    "print(proj.arch) \n",
    "print(hex(proj.entry)) \n",
    "print(proj.filename) "
   ]
  },
  {
   "cell_type": "markdown",
   "metadata": {},
   "source": [
    "## loader\n",
    "angr中有名为CLE的模块，代表“CLE Loads Everything”，负责获取二进制文件（以及它所依赖的任何库）并以易于使用的方式将其呈现给angr的其余部分。\\\n",
    "angr使用CLE模块来处理从二进制文件加载到在虚拟地址空间的问题，而CLE的结果会被呈现在.loader属性中。 \\\n",
    "用它来查看angr加载程序时同时加载的共享库，并对加载的地址空间进行基本的查询。"
   ]
  },
  {
   "cell_type": "code",
   "execution_count": 127,
   "metadata": {
    "scrolled": false
   },
   "outputs": [
    {
     "name": "stdout",
     "output_type": "stream",
     "text": [
      "<Loaded 00_angr_find, maps [0x8048000:0x8608000]>\n",
      "OrderedDict([('00_angr_find', <ELF Object 00_angr_find, maps [0x8048000:0x804a03f]>), ('libc.so.6', <ELF Object libc-2.30.so, maps [0x8100000:0x82e3f4b]>), ('ld-linux.so.2', <ELF Object ld-2.30.so, maps [0x8300000:0x832993f]>), ('extern-address space', <ExternObject Object cle##externs, maps [0x8400000:0x8408000]>), ('cle##tls', <ELFTLSObjectV2 Object cle##tls, maps [0x8500000:0x8514808]>)])\n",
      "0x8048000\n",
      "0x8608000\n",
      "<ELF Object 00_angr_find, maps [0x8048000:0x804a03f]>\n",
      "False\n",
      "False\n"
     ]
    }
   ],
   "source": [
    "print(proj.loader)\n",
    "print(proj.loader.shared_objects) # may look a little different for you!\n",
    "print(hex(proj.loader.min_addr))\n",
    "print(hex(proj.loader.max_addr))\n",
    "print(proj.loader.main_object) # we've loaded several binaries into this project. Here's the main one!\n",
    "print(proj.loader.main_object.execstack) # sample query: does this binary have an executable stack?\n",
    "print(proj.loader.main_object.pic) # sample query: is this binary position-independent(位置无关)?"
   ]
  },
  {
   "cell_type": "markdown",
   "metadata": {},
   "source": [
    "## block类\n",
    "block是angr进行分析的最小单位，factory.block(addr)将从给定的地址提取出该地址的代码块。通过生成的block类，可以获取关于代码块的信息"
   ]
  },
  {
   "cell_type": "code",
   "execution_count": 128,
   "metadata": {},
   "outputs": [
    {
     "name": "stdout",
     "output_type": "stream",
     "text": [
      "0x8048450:\txor\tebp, ebp\n",
      "0x8048452:\tpop\tesi\n",
      "0x8048453:\tmov\tecx, esp\n",
      "0x8048455:\tand\tesp, 0xfffffff0\n",
      "0x8048458:\tpush\teax\n",
      "0x8048459:\tpush\tesp\n",
      "0x804845a:\tpush\tedx\n",
      "0x804845b:\tpush\t0x8048710\n",
      "0x8048460:\tpush\t0x80486b0\n",
      "0x8048465:\tpush\tecx\n",
      "0x8048466:\tpush\tesi\n",
      "0x8048467:\tpush\t0x80485c7\n",
      "0x804846c:\tcall\t0x8048420\n",
      "None\n",
      "b'1\\xed^\\x89\\xe1\\x83\\xe4\\xf0PTRh\\x10\\x87\\x04\\x08h\\xb0\\x86\\x04\\x08QVh\\xc7\\x85\\x04\\x08\\xe8\\xaf\\xff\\xff\\xff'\n",
      "13\n",
      "[134513744, 134513746, 134513747, 134513749, 134513752, 134513753, 134513754, 134513755, 134513760, 134513765, 134513766, 134513767, 134513772]\n"
     ]
    }
   ],
   "source": [
    "block = proj.factory.block(proj.entry)\n",
    "print(block.pp()) #disasm\n",
    "print(block.bytes) # b'1\\xed^\\x89\\xe1\\x83\\xe4\\xf0PTRh ...'\n",
    "print(block.instructions) #number of instructions # 13\n",
    "print(block.instruction_addrs) # addresses of the instructions"
   ]
  },
  {
   "cell_type": "markdown",
   "metadata": {},
   "source": [
    "## States\n",
    "当一个项目被传入angr.Project()后，其代表的只是程序的静态镜像，要想让程序成功执行，还需要另外的数据结构来保存执行时程序的各个状态，这就是States类的作用\n",
    "在States中保存了程序运行时的寄存器和内存状态，其中,BV代表的是一个bitvector。"
   ]
  },
  {
   "cell_type": "code",
   "execution_count": 129,
   "metadata": {},
   "outputs": [
    {
     "name": "stdout",
     "output_type": "stream",
     "text": [
      "<BV32 0x8048450>\n",
      "<BV16 0x1c>\n",
      "<BV32 0x895eed31>\n"
     ]
    }
   ],
   "source": [
    "state = proj.factory.entry_state()\n",
    "print(state.regs.ip) # get the current instruction pointer\n",
    "print(state.regs.ax)\n",
    "print(state.mem[proj.entry].int.resolved)"
   ]
  },
  {
   "cell_type": "markdown",
   "metadata": {},
   "source": [
    "## Bitvector\n",
    "可以指定位数的二进制向量"
   ]
  },
  {
   "cell_type": "code",
   "execution_count": 114,
   "metadata": {},
   "outputs": [
    {
     "name": "stdout",
     "output_type": "stream",
     "text": [
      "<BV32 0x1234>\n",
      "0x1234\n",
      "<long (32 bits) <BV32 0x4> at 0x1000>\n",
      "<BV32 0x4>\n"
     ]
    }
   ],
   "source": [
    "bv = state.solver.BVV(0x1234, 32)\n",
    "print(bv)\n",
    "# create a 32-bit-wide bitvector with value 0x1234\n",
    "# BVV stands for bitvector value\n",
    "print(hex(state.solver.eval(bv)))\n",
    "# convert to python int\n",
    "state.regs.si = state.solver.BVV(3, 32)\n",
    "state.mem[0x1000].long = 4\n",
    "print(state.mem[0x1000].long)\n",
    "print(state.mem[0x1000].long.resolved)"
   ]
  },
  {
   "cell_type": "markdown",
   "metadata": {},
   "source": [
    "## Simulation Managers\n",
    "simulation manager(simgr)主要为States的执行提供接口，用step()可以单步执行 \\\n",
    "之前提到过，angr可用于动态符号执行，而simgr.active是保存simgr中目前存在状态(states)的数组,在遇到诸如分支语句时，会创建一个新的状态。\\\n",
    "每个状态有专门的Stash types,来表示该状态能否被继续执行(etc. active,deadended)"
   ]
  },
  {
   "cell_type": "code",
   "execution_count": 123,
   "metadata": {},
   "outputs": [
    {
     "name": "stdout",
     "output_type": "stream",
     "text": [
      "<BV32 0x8048450>\n",
      "<BV32 0x8048420>\n",
      "<SimulationManager with 1 active>\n"
     ]
    },
    {
     "name": "stderr",
     "output_type": "stream",
     "text": [
      "WARNING | 2020-08-09 15:55:23,937 | \u001b[32mangr.state_plugins.symbolic_memory\u001b[0m | \u001b[32mFilling register edi with 4 unconstrained bytes referenced from 0x80486b1 (__libc_csu_init+0x1 in 00_angr_find (0x80486b1))\u001b[0m\n",
      "WARNING | 2020-08-09 15:55:23,945 | \u001b[32mangr.state_plugins.symbolic_memory\u001b[0m | \u001b[32mFilling register ebx with 4 unconstrained bytes referenced from 0x80486b3 (__libc_csu_init+0x3 in 00_angr_find (0x80486b3))\u001b[0m\n"
     ]
    },
    {
     "name": "stdout",
     "output_type": "stream",
     "text": [
      "<SimulationManager with 2 active>\n"
     ]
    },
    {
     "name": "stderr",
     "output_type": "stream",
     "text": [
      "WARNING | 2020-08-09 15:55:28,364 | \u001b[32mangr.state_plugins.symbolic_memory\u001b[0m | \u001b[32mFilling memory at 0x7ffefffc with 71 unconstrained bytes referenced from 0x8187ce0 (strcmp+0x0 in libc.so.6 (0x87ce0))\u001b[0m\n",
      "WARNING | 2020-08-09 15:55:28,366 | \u001b[32mangr.state_plugins.symbolic_memory\u001b[0m | \u001b[32mFilling memory at 0x7ffeff50 with 4 unconstrained bytes referenced from 0x8187ce0 (strcmp+0x0 in libc.so.6 (0x87ce0))\u001b[0m\n"
     ]
    },
    {
     "name": "stdout",
     "output_type": "stream",
     "text": [
      "after run()\n",
      "<SimulationManager with 18 deadended>\n"
     ]
    }
   ],
   "source": [
    "state = proj.factory.entry_state()\n",
    "simgr = proj.factory.simgr(state)\n",
    "print(simgr.active[0].regs.ip)\n",
    "simgr.step()\n",
    "print(simgr.active[0].regs.ip)\n",
    "print(simgr)\n",
    "while len(simgr.active) == 1:\n",
    "    simgr.step()\n",
    "print(simgr)\n",
    "simgr.run()\n",
    "print(\"after run()\")\n",
    "print(simgr)"
   ]
  },
  {
   "cell_type": "markdown",
   "metadata": {},
   "source": [
    "## Analyses\n",
    "proj.analyses提供了许多自带的分析模块,这里以绘制控制流图(CFG)为例："
   ]
  },
  {
   "cell_type": "code",
   "execution_count": 130,
   "metadata": {},
   "outputs": [],
   "source": [
    "import angr\n",
    "from angrutils import *\n",
    "main = proj.loader.main_object.get_symbol(\"main\")\n",
    "start_state = proj.factory.blank_state(addr=main.rebased_addr)\n",
    "cfg = proj.analyses.CFGEmulated(fail_fast=True, starts=[main.rebased_addr], initial_state=start_state)\n",
    "plot_cfg(cfg, \"example\", asminst=True, remove_imports=True, remove_path_terminator=True)  "
   ]
  },
  {
   "cell_type": "markdown",
   "metadata": {},
   "source": [
    "# 案例\n",
    "## 案例一：find的应用(00_angr_find)\n",
    "## 案例二：通过输出判断程序正确性(02_angr_find_condition) \n",
    "## 案例三：手动构造寄存器中的变量(03_angr_symbolic_registers) \n",
    "## 案例四：手动构造堆栈中的变量(04_angr_stack) \n",
    "## 案例五：手动构造内存中的变量(05_angr_symbolic_memory) "
   ]
  },
  {
   "cell_type": "markdown",
   "metadata": {},
   "source": [
    "# 附录\n",
    "- Angr：一个具有动态符号执行和静态分析的二进制分析工具\n",
    "https://www.freebuf.com/sectool/143056.html\n",
    "- angr文档\n",
    "https://docs.angr.io/core-concepts/toplevel\n",
    "- API文档\n",
    "http://angr.io/api-doc/angr.html#module-angr.project"
   ]
  },
  {
   "cell_type": "code",
   "execution_count": null,
   "metadata": {},
   "outputs": [],
   "source": []
  }
 ],
 "metadata": {
  "kernelspec": {
   "display_name": "Python 3",
   "language": "python",
   "name": "python3"
  },
  "language_info": {
   "codemirror_mode": {
    "name": "ipython",
    "version": 3
   },
   "file_extension": ".py",
   "mimetype": "text/x-python",
   "name": "python",
   "nbconvert_exporter": "python",
   "pygments_lexer": "ipython3",
   "version": "3.8.2"
  }
 },
 "nbformat": 4,
 "nbformat_minor": 4
}
